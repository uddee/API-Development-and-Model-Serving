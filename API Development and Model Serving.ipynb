{
 "cells": [
  {
   "cell_type": "code",
   "execution_count": 1,
   "metadata": {},
   "outputs": [
    {
     "name": "stdout",
     "output_type": "stream",
     "text": [
      "Accuracy: 1.0\n"
     ]
    }
   ],
   "source": [
    "from fastapi import FastAPI\n",
    "from pydantic import BaseModel\n",
    "import numpy as np\n",
    "from sklearn.datasets import load_iris\n",
    "from sklearn.model_selection import train_test_split\n",
    "from sklearn.ensemble import RandomForestClassifier\n",
    "from sklearn.metrics import accuracy_score\n",
    "\n",
    "# Train the model directly in the FastAPI app\n",
    "iris = load_iris()\n",
    "X_train, X_test, y_train, y_test = train_test_split(iris.data, iris.target, test_size=0.2, random_state=42)\n",
    "\n",
    "# Train a Random Forest model (replace with your desired model)\n",
    "model = RandomForestClassifier()\n",
    "model.fit(X_train, y_train)\n",
    "\n",
    "# Make predictions to check accuracy\n",
    "y_pred = model.predict(X_test)\n",
    "print(f\"Accuracy: {accuracy_score(y_test, y_pred)}\")\n",
    "\n",
    "# Define the FastAPI app\n",
    "app = FastAPI()\n",
    "\n",
    "# Define the input structure for your API\n",
    "class InputData(BaseModel):\n",
    "    feature1: float\n",
    "    feature2: float\n",
    "    feature3: float\n",
    "    feature4: float\n",
    "\n",
    "# Define the prediction endpoint\n",
    "@app.post(\"/predict/\")\n",
    "async def predict(input_data: InputData):\n",
    "    # Prepare data for prediction (convert to numpy array or pandas DataFrame if needed)\n",
    "    input_array = np.array([[input_data.feature1, input_data.feature2, input_data.feature3, input_data.feature4]])\n",
    "    \n",
    "    # Get prediction from the trained model\n",
    "    prediction = model.predict(input_array)\n",
    "    \n",
    "    return {\"prediction\": prediction.tolist()}\n"
   ]
  },
  {
   "cell_type": "code",
   "execution_count": 2,
   "metadata": {},
   "outputs": [],
   "source": [
    "import requests\n",
    "\n",
    "@app.get(\"/external-data/\")\n",
    "async def get_external_data():\n",
    "    # Fetch data from an external API (replace the URL with a real one)\n",
    "    response = requests.get(\"https://api.example.com/data\")\n",
    "    data = response.json()  # Process the JSON response\n",
    "    \n",
    "    # Use the data as needed\n",
    "    return {\"data\": data}"
   ]
  }
 ],
 "metadata": {
  "kernelspec": {
   "display_name": "Python 3",
   "language": "python",
   "name": "python3"
  },
  "language_info": {
   "codemirror_mode": {
    "name": "ipython",
    "version": 3
   },
   "file_extension": ".py",
   "mimetype": "text/x-python",
   "name": "python",
   "nbconvert_exporter": "python",
   "pygments_lexer": "ipython3",
   "version": "3.12.9"
  }
 },
 "nbformat": 4,
 "nbformat_minor": 2
}
